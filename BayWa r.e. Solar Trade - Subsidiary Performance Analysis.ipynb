{
 "cells": [
  {
   "cell_type": "markdown",
   "id": "745ca9f8",
   "metadata": {},
   "source": [
    "## BayWa r.e. Solar Trade - Subsidiary Performance Analysis"
   ]
  },
  {
   "cell_type": "markdown",
   "id": "f234eac2",
   "metadata": {},
   "source": [
    "### PROJECT DESCRIPTION:\n",
    "This analysis evaluates the financial and operational performance of three BayWa r.e.. Solar Trade subsidiaries (A, G, J) to provide strategic insights for C-Level executives and actionable recommendations for Operations managers.\n",
    "\n",
    "### BUSINESS CONTEXT:\n",
    "BayWa r.e. is a leading renewable energy company operating solar trade subsidiaries \n",
    "across different markets. Management needs to understand which subsidiaries are \n",
    "performing well, identify operational inefficiencies, and make informed investment \n",
    "decisions for future growth.\n",
    "\n",
    "### ANALYTICAL APPROACH:\n",
    "This analysis demonstrates real-world data analyst skills through:\n",
    "- Comprehensive data quality assessment and cleaning\n",
    "- Iterative investigation when initial results seemed suspicious  \n",
    "- Critical thinking to uncover hidden operational issues\n",
    "- Business segment analysis (retail vs. commercial solar projects)\n",
    "- Product category performance evaluation\n",
    "- Executive-level insights with actionable recommendations"
   ]
  },
  {
   "cell_type": "markdown",
   "id": "9b0ca528",
   "metadata": {},
   "source": [
    "KEY DATASETS:\n",
    "- **Sales Orders**: Revenue transactions and order fulfillment data\n",
    "- **Purchase Orders**: Procurement costs and supplier relationships  \n",
    "- **Inventory**: Stock levels and cost management\n",
    "- **Items**: Product catalog with categories and specifications"
   ]
  },
  {
   "cell_type": "markdown",
   "id": "10604e1a",
   "metadata": {},
   "source": [
    "### DELIVERABLES:\n",
    "1. Financial performance ranking of all subsidiaries\n",
    "2. Operational efficiency analysis and improvement recommendations\n",
    "3. Business model insights (retail vs. large commercial projects)\n",
    "4. Interactive dashboard requirements for ongoing monitoring\n",
    "5. Strategic recommendations for executive decision-making"
   ]
  },
  {
   "cell_type": "code",
   "execution_count": 1,
   "id": "ccd67cc7",
   "metadata": {},
   "outputs": [],
   "source": [
    "# SETUP AND IMPORT LIBRARIES\n",
    "import pandas as pd\n",
    "import numpy as np\n",
    "import matplotlib.pyplot as plt\n",
    "import seaborn as sns\n",
    "\n",
    "# Set display options\n",
    "pd.set_option('display.max_columns', None)\n",
    "pd.set_option('display.float_format', '{:.2f}'.format)"
   ]
  },
  {
   "cell_type": "markdown",
   "id": "04c1768a",
   "metadata": {},
   "source": [
    "### DATA LOADING"
   ]
  },
  {
   "cell_type": "code",
   "execution_count": 3,
   "id": "9345fc52",
   "metadata": {},
   "outputs": [
    {
     "name": "stdout",
     "output_type": "stream",
     "text": [
      "Loading Subsidiary A files:\n",
      "  A sales: 32,844 rows\n",
      "  A purchases: 2,171 rows\n",
      "  A inventory: 397 rows\n",
      "  A items: 636 rows\n",
      "\n",
      "Loading Subsidiary G files:\n",
      "  G sales: 135,546 rows\n",
      "  G purchases: 14,244 rows\n",
      "  G inventory: 3,069 rows\n",
      "  G items: 1,737 rows\n",
      "\n",
      "Loading Subsidiary J files:\n",
      "  J sales: 143,161 rows\n",
      "  J purchases: 9,512 rows\n",
      "  J inventory: 2,743 rows\n",
      "  J items: 1,707 rows\n"
     ]
    }
   ],
   "source": [
    "# Load Subsidiary A files\n",
    "print(\"Loading Subsidiary A files:\")\n",
    "a_sales = pd.read_csv('A_sales_orders.csv')\n",
    "a_purchase = pd.read_csv('A_purchase_orders.csv')\n",
    "a_inventory = pd.read_csv('A_inventory.csv')\n",
    "a_items = pd.read_csv('A_items.csv')\n",
    "print(f\"  A sales: {len(a_sales):,} rows\")\n",
    "print(f\"  A purchases: {len(a_purchase):,} rows\")\n",
    "print(f\"  A inventory: {len(a_inventory):,} rows\")\n",
    "print(f\"  A items: {len(a_items):,} rows\")\n",
    "\n",
    "# Load Subsidiary G files\n",
    "print(\"\\nLoading Subsidiary G files:\")\n",
    "g_sales = pd.read_csv('G_sales_orders.csv')\n",
    "g_purchase = pd.read_csv('G_purchase_orders.csv')\n",
    "g_inventory = pd.read_csv('G_inventory.csv')\n",
    "g_items = pd.read_csv('G_items.csv')\n",
    "print(f\"  G sales: {len(g_sales):,} rows\")\n",
    "print(f\"  G purchases: {len(g_purchase):,} rows\")\n",
    "print(f\"  G inventory: {len(g_inventory):,} rows\")\n",
    "print(f\"  G items: {len(g_items):,} rows\")\n",
    "\n",
    "# Load Subsidiary J files\n",
    "print(\"\\nLoading Subsidiary J files:\")\n",
    "j_sales = pd.read_csv('J_sales_orders.csv')\n",
    "j_purchase = pd.read_csv('J_purchase_orders.csv')\n",
    "j_inventory = pd.read_csv('J_inventory.csv')\n",
    "j_items = pd.read_csv('J_items.csv')\n",
    "print(f\"  J sales: {len(j_sales):,} rows\")\n",
    "print(f\"  J purchases: {len(j_purchase):,} rows\")\n",
    "print(f\"  J inventory: {len(j_inventory):,} rows\")\n",
    "print(f\"  J items: {len(j_items):,} rows\")"
   ]
  },
  {
   "cell_type": "code",
   "execution_count": 5,
   "id": "2abc0415",
   "metadata": {},
   "outputs": [
    {
     "name": "stdout",
     "output_type": "stream",
     "text": [
      "Subsidiary A:\n",
      "  Sales orders: 32,844\n",
      "  Purchase orders: 2,171\n",
      "  Inventory items: 397\n",
      "  Product catalog: 636\n",
      "\n",
      "Subsidiary G:\n",
      "  Sales orders: 135,546\n",
      "  Purchase orders: 14,244\n",
      "  Inventory items: 3,069\n",
      "  Product catalog: 1,737\n",
      "\n",
      "Subsidiary J:\n",
      "  Sales orders: 143,161\n",
      "  Purchase orders: 9,512\n",
      "  Inventory items: 2,743\n",
      "  Product catalog: 1,707\n"
     ]
    }
   ],
   "source": [
    "print(\"Subsidiary A:\")\n",
    "print(f\"  Sales orders: {len(a_sales):,}\")\n",
    "print(f\"  Purchase orders: {len(a_purchase):,}\")\n",
    "print(f\"  Inventory items: {len(a_inventory):,}\")\n",
    "print(f\"  Product catalog: {len(a_items):,}\")\n",
    "\n",
    "print(\"\\nSubsidiary G:\")\n",
    "print(f\"  Sales orders: {len(g_sales):,}\")\n",
    "print(f\"  Purchase orders: {len(g_purchase):,}\")\n",
    "print(f\"  Inventory items: {len(g_inventory):,}\")\n",
    "print(f\"  Product catalog: {len(g_items):,}\")\n",
    "\n",
    "print(\"\\nSubsidiary J:\")\n",
    "print(f\"  Sales orders: {len(j_sales):,}\")\n",
    "print(f\"  Purchase orders: {len(j_purchase):,}\")\n",
    "print(f\"  Inventory items: {len(j_inventory):,}\")\n",
    "print(f\"  Product catalog: {len(j_items):,}\")"
   ]
  },
  {
   "cell_type": "code",
   "execution_count": 6,
   "id": "8bf44a62",
   "metadata": {},
   "outputs": [
    {
     "name": "stdout",
     "output_type": "stream",
     "text": [
      "\n",
      "Sample of sales data columns:\n",
      "A_sales columns: ['guid', 'headerGuid', 'itemGuid', 'locationGuid', 'inventoryGuid', 'tranID', 'linePosition', 'invoiceType', 'status', 'qtyOrdered', 'qtyOpen', 'qtyReceived', 'qtyBilled', 'amount', 'itemRate', 'createdDate', 'tranDate', 'actualShipDate', 'shipDate', 'expectedReceiptDate', 'is_web_order', 'is_intercompany', 'SubsidiaryID']\n"
     ]
    }
   ],
   "source": [
    "# Show sample columns\n",
    "print(\"\\nSample of sales data columns:\")\n",
    "print(\"A_sales columns:\", list(a_sales.columns))"
   ]
  },
  {
   "cell_type": "markdown",
   "id": "93469053",
   "metadata": {},
   "source": [
    "### BASIC DATA QUALITY CHECKS"
   ]
  },
  {
   "cell_type": "code",
   "execution_count": 7,
   "id": "b68ec74f",
   "metadata": {},
   "outputs": [
    {
     "name": "stdout",
     "output_type": "stream",
     "text": [
      "MISSING VALUES CHECK:\n",
      "\n",
      "Sales data - 'amount' column:\n",
      "  A_sales missing: 0\n",
      "  G_sales missing: 0\n",
      "  J_sales missing: 0\n",
      "\n",
      "Purchase data - 'amount' column:\n",
      "  A_purchase missing: 0\n",
      "  G_purchase missing: 0\n",
      "  J_purchase missing: 0\n"
     ]
    }
   ],
   "source": [
    "# Check missing values in key columns\n",
    "print(\"MISSING VALUES CHECK:\")\n",
    "print(\"\\nSales data - 'amount' column:\")\n",
    "print(f\"  A_sales missing: {a_sales['amount'].isnull().sum()}\")\n",
    "print(f\"  G_sales missing: {g_sales['amount'].isnull().sum()}\")\n",
    "print(f\"  J_sales missing: {j_sales['amount'].isnull().sum()}\")\n",
    "\n",
    "print(\"\\nPurchase data - 'amount' column:\")\n",
    "print(f\"  A_purchase missing: {a_purchase['amount'].isnull().sum()}\")\n",
    "print(f\"  G_purchase missing: {g_purchase['amount'].isnull().sum()}\")\n",
    "print(f\"  J_purchase missing: {j_purchase['amount'].isnull().sum()}\")"
   ]
  },
  {
   "cell_type": "code",
   "execution_count": 8,
   "id": "8d061712",
   "metadata": {},
   "outputs": [
    {
     "name": "stdout",
     "output_type": "stream",
     "text": [
      "\n",
      "UNUSUAL VALUES CHECK:\n",
      "Sales amounts = 0:\n",
      "  A: 7445\n",
      "  G: 1969\n",
      "  J: 3406\n",
      "\n",
      "Purchase amounts = 0:\n",
      "  A: 670\n",
      "  G: 981\n",
      "  J: 408\n"
     ]
    }
   ],
   "source": [
    "# Check for unusual amounts (zero/negative)\n",
    "print(\"\\nUNUSUAL VALUES CHECK:\")\n",
    "print(\"Sales amounts = 0:\")\n",
    "print(f\"  A: {(a_sales['amount'] == 0).sum()}\")\n",
    "print(f\"  G: {(g_sales['amount'] == 0).sum()}\")\n",
    "print(f\"  J: {(j_sales['amount'] == 0).sum()}\")\n",
    "\n",
    "print(\"\\nPurchase amounts = 0:\")\n",
    "print(f\"  A: {(a_purchase['amount'] == 0).sum()}\")\n",
    "print(f\"  G: {(g_purchase['amount'] == 0).sum()}\")\n",
    "print(f\"  J: {(j_purchase['amount'] == 0).sum()}\")"
   ]
  },
  {
   "cell_type": "markdown",
   "id": "a8e08aa2",
   "metadata": {},
   "source": [
    "Key Data Quality Issues:\n",
    "- Zero amounts: All subsidiaries have sales orders with €0 amounts (A has 7,445!)\n",
    "- Date ranges: Data covers roughly 2022-2023 period\n",
    "- Zero purchases: Some purchase orders also have €0 amounts"
   ]
  },
  {
   "cell_type": "code",
   "execution_count": 9,
   "id": "9640c661",
   "metadata": {},
   "outputs": [
    {
     "name": "stdout",
     "output_type": "stream",
     "text": [
      "\n",
      "DATE RANGES:\n",
      "A_sales: 2022-10-05 to 2023-12-31\n",
      "G_sales: 2022-01-03 to 2023-12-29\n",
      "J_sales: 2022-01-01 to 2023-12-31\n"
     ]
    }
   ],
   "source": [
    "# Check date ranges\n",
    "print(\"\\nDATE RANGES:\")\n",
    "print(f\"A_sales: {a_sales['tranDate'].min()} to {a_sales['tranDate'].max()}\")\n",
    "print(f\"G_sales: {g_sales['tranDate'].min()} to {g_sales['tranDate'].max()}\")\n",
    "print(f\"J_sales: {j_sales['tranDate'].min()} to {j_sales['tranDate'].max()}\")"
   ]
  },
  {
   "cell_type": "markdown",
   "id": "05ed230f",
   "metadata": {},
   "source": [
    "### Checking Statistics"
   ]
  },
  {
   "cell_type": "code",
   "execution_count": 10,
   "id": "d5c1fb2c",
   "metadata": {},
   "outputs": [
    {
     "name": "stdout",
     "output_type": "stream",
     "text": [
      "SALES AMOUNT STATISTICS:\n",
      "\n",
      "Subsidiary A Sales:\n",
      "count      32844.00\n",
      "mean       13154.33\n",
      "std       320551.51\n",
      "min        -7110.78\n",
      "25%           42.39\n",
      "50%          847.80\n",
      "75%         4713.14\n",
      "max     48243171.48\n",
      "Name: amount, dtype: float64\n",
      "\n",
      "Subsidiary G Sales:\n",
      "count    135546.00\n",
      "mean       9904.76\n",
      "std       55259.44\n",
      "min       -6381.33\n",
      "25%          76.87\n",
      "50%         509.94\n",
      "75%        3175.76\n",
      "max     5677990.16\n",
      "Name: amount, dtype: float64\n",
      "\n",
      "Subsidiary J Sales:\n",
      "count     143161.00\n",
      "mean       11975.94\n",
      "std        84608.88\n",
      "min     -1059675.86\n",
      "25%          348.41\n",
      "50%         1816.14\n",
      "75%         5487.02\n",
      "max     11457820.31\n",
      "Name: amount, dtype: float64\n"
     ]
    }
   ],
   "source": [
    "# Sales amount statistics\n",
    "print(\"SALES AMOUNT STATISTICS:\")\n",
    "print(\"\\nSubsidiary A Sales:\")\n",
    "print(a_sales['amount'].describe())\n",
    "\n",
    "print(\"\\nSubsidiary G Sales:\")\n",
    "print(g_sales['amount'].describe())\n",
    "\n",
    "print(\"\\nSubsidiary J Sales:\")\n",
    "print(j_sales['amount'].describe())"
   ]
  },
  {
   "cell_type": "code",
   "execution_count": 11,
   "id": "1a15095c",
   "metadata": {},
   "outputs": [
    {
     "name": "stdout",
     "output_type": "stream",
     "text": [
      "\n",
      "PURCHASE AMOUNT STATISTICS:\n",
      "\n",
      "Subsidiary A Purchases:\n",
      "count        2171.00\n",
      "mean       313464.26\n",
      "std       3811995.05\n",
      "min             0.00\n",
      "25%             0.00\n",
      "50%          9647.59\n",
      "75%         97214.40\n",
      "max     131516728.63\n",
      "Name: amount, dtype: float64\n",
      "\n",
      "Subsidiary G Purchases:\n",
      "count     14244.00\n",
      "mean      79980.35\n",
      "std      191334.59\n",
      "min           0.00\n",
      "25%        1224.60\n",
      "50%        8809.77\n",
      "75%       67239.96\n",
      "max     5847896.06\n",
      "Name: amount, dtype: float64\n",
      "\n",
      "Subsidiary J Purchases:\n",
      "count      9512.00\n",
      "mean     148511.52\n",
      "std      271429.26\n",
      "min           0.00\n",
      "25%        3536.27\n",
      "50%       32117.49\n",
      "75%      256646.02\n",
      "max     7635585.10\n",
      "Name: amount, dtype: float64\n"
     ]
    }
   ],
   "source": [
    "# Purchase amount statistics\n",
    "print(\"\\nPURCHASE AMOUNT STATISTICS:\")\n",
    "print(\"\\nSubsidiary A Purchases:\")\n",
    "print(a_purchase['amount'].describe())\n",
    "\n",
    "print(\"\\nSubsidiary G Purchases:\")\n",
    "print(g_purchase['amount'].describe())\n",
    "\n",
    "print(\"\\nSubsidiary J Purchases:\")\n",
    "print(j_purchase['amount'].describe())"
   ]
  },
  {
   "cell_type": "markdown",
   "id": "4fbaf033",
   "metadata": {},
   "source": [
    "### Checking for Outliers:"
   ]
  },
  {
   "cell_type": "code",
   "execution_count": 12,
   "id": "de678db2",
   "metadata": {},
   "outputs": [
    {
     "name": "stdout",
     "output_type": "stream",
     "text": [
      "SALES OUTLIER ANALYSIS:\n",
      "\n",
      "Subsidiary A:\n",
      "  Normal range: €-6,964 to €11,719\n",
      "  Number of outliers: 3855\n",
      "  Largest outlier: €48,243,171\n",
      "  Smallest outlier: €-7,111\n",
      "\n",
      "Subsidiary G:\n",
      "  Normal range: €-4,571 to €7,824\n",
      "  Number of outliers: 17931\n",
      "  Largest outlier: €5,677,990\n",
      "  Smallest outlier: €-6,381\n",
      "\n",
      "Subsidiary J:\n",
      "  Normal range: €-7,360 to €13,195\n",
      "  Number of outliers: 17224\n",
      "  Largest outlier: €11,457,820\n",
      "  Smallest outlier: €-1,059,676\n"
     ]
    }
   ],
   "source": [
    "# Check for extreme outliers in sales data\n",
    "print(\"SALES OUTLIER ANALYSIS:\")\n",
    "\n",
    "for name, data in [('A', a_sales), ('G', g_sales), ('J', j_sales)]:\n",
    "    amounts = data['amount']\n",
    "    \n",
    "    # Calculate quartiles\n",
    "    q1 = amounts.quantile(0.25)\n",
    "    q3 = amounts.quantile(0.75)\n",
    "    iqr = q3 - q1\n",
    "    \n",
    "    # Calculate outlier boundaries\n",
    "    lower_bound = q1 - 1.5 * iqr\n",
    "    upper_bound = q3 + 1.5 * iqr\n",
    "    \n",
    "    # Find outliers\n",
    "    outliers = amounts[(amounts < lower_bound) | (amounts > upper_bound)]\n",
    "    \n",
    "    print(f\"\\nSubsidiary {name}:\")\n",
    "    print(f\"  Normal range: €{lower_bound:,.0f} to €{upper_bound:,.0f}\")\n",
    "    print(f\"  Number of outliers: {len(outliers)}\")\n",
    "    print(f\"  Largest outlier: €{outliers.max():,.0f}\")\n",
    "    print(f\"  Smallest outlier: €{outliers.min():,.0f}\")"
   ]
  },
  {
   "cell_type": "code",
   "execution_count": 13,
   "id": "8b13cdb4",
   "metadata": {},
   "outputs": [
    {
     "name": "stdout",
     "output_type": "stream",
     "text": [
      "\n",
      "PURCHASE OUTLIER ANALYSIS:\n",
      "\n",
      "Subsidiary A:\n",
      "  Normal upper limit: €544,184\n",
      "  Purchase outliers: 192\n",
      "  Largest purchase: €131,516,729\n",
      "\n",
      "Subsidiary G:\n",
      "  Normal upper limit: €217,830\n",
      "  Purchase outliers: 2297\n",
      "  Largest purchase: €5,847,896\n",
      "\n",
      "Subsidiary J:\n",
      "  Normal upper limit: €643,182\n",
      "  Purchase outliers: 348\n",
      "  Largest purchase: €7,635,585\n"
     ]
    }
   ],
   "source": [
    "# Purchase Outliers\n",
    "print(\"\\nPURCHASE OUTLIER ANALYSIS:\")\n",
    "for name, data in [('A', a_purchase), ('G', g_purchase), ('J', j_purchase)]:\n",
    "    amounts = data['amount']\n",
    "    amounts_nonzero = amounts[amounts > 0]  # Exclude zeros\n",
    "    \n",
    "    if len(amounts_nonzero) > 0:\n",
    "        q1 = amounts_nonzero.quantile(0.25)\n",
    "        q3 = amounts_nonzero.quantile(0.75)\n",
    "        iqr = q3 - q1\n",
    "        upper_bound = q3 + 1.5 * iqr\n",
    "        \n",
    "        outliers = amounts_nonzero[amounts_nonzero > upper_bound]\n",
    "        \n",
    "        print(f\"\\nSubsidiary {name}:\")\n",
    "        print(f\"  Normal upper limit: €{upper_bound:,.0f}\")\n",
    "        print(f\"  Purchase outliers: {len(outliers)}\")\n",
    "        print(f\"  Largest purchase: €{outliers.max():,.0f}\")"
   ]
  },
  {
   "cell_type": "markdown",
   "id": "4ee2fd99",
   "metadata": {},
   "source": [
    "##### Sales Outliers:\n",
    "\n",
    "Subsidiary A: 3,855 outliers out of 32,844 orders (12% are outliers!)\n",
    "Subsidiary G: 17,931 outliers out of 135,546 orders (13% are outliers!)\n",
    "Subsidiary J: 17,224 outliers out of 143,161 orders (12% are outliers!)\n",
    "\n",
    "##### Extreme Sales:\n",
    "\n",
    "Subsidiary A: €48.2 million sale (vs normal max €11,719!)\n",
    "Subsidiary J: Massive refund of €1.06 million\n",
    "\n",
    "##### Purchase Outliers:\n",
    "\n",
    "Subsidiary A: €131.5 million purchase (vs normal max €544k!)\n",
    "All subsidiaries have major purchase outliers\n",
    "\n",
    "#### This data suggests we handle TWO types of business:\n",
    "\n",
    "- Regular retail sales: €100-€10,000 (normal range)\n",
    "- Large commercial projects: Multi-million euro solar installations"
   ]
  },
  {
   "cell_type": "code",
   "execution_count": 14,
   "id": "d33685db",
   "metadata": {},
   "outputs": [
    {
     "name": "stdout",
     "output_type": "stream",
     "text": [
      "TOP 5 LARGEST SALES:\n",
      "\n",
      "Subsidiary A - Top 5 sales:\n",
      "           amount  qtyOrdered    tranDate\n",
      "24460 48243171.48    48000.00  2023-09-14\n",
      "31496 24179256.00      279.00  2023-11-28\n",
      "16079 13847400.00      450.00  2023-06-05\n",
      "12898  8138127.00     2922.00  2023-04-26\n",
      "7945   4442641.56     3078.00  2023-02-06\n",
      "\n",
      "Subsidiary G - Top 5 sales:\n",
      "          amount  qtyOrdered    tranDate\n",
      "80095 5677990.16    53352.00  2023-05-09\n",
      "52541 5612378.54     1170.00  2022-12-12\n",
      "40634 2557793.38     1188.00  2022-10-10\n",
      "40660 2557793.38     1188.00  2022-10-10\n",
      "43749 2557793.38     1188.00  2022-10-27\n",
      "\n",
      "Subsidiary J - Top 5 sales:\n",
      "         amount  qtyOrdered    tranDate\n",
      "140 11457820.31     2997.00  2022-01-06\n",
      "127  8014614.56     2997.00  2022-01-06\n",
      "138  6570906.12     2997.00  2022-01-06\n",
      "117  6108627.06     2997.00  2022-01-06\n",
      "122  5514286.19     2997.00  2022-01-06\n",
      "\n",
      "TOP 3 LARGEST PURCHASES:\n",
      "\n",
      "Subsidiary A - Top 3 purchases:\n",
      "          amount  qtyOrdered    tranDate\n",
      "216 131516728.63     4608.00  2022-10-04\n",
      "239 108779457.09     3345.00  2022-10-04\n",
      "212  31996672.85     1080.00  2022-10-04\n",
      "\n",
      "Subsidiary G - Top 3 purchases:\n",
      "          amount  qtyOrdered    tranDate\n",
      "11057 5847896.06    64584.00  2023-10-02\n",
      "6719  5026512.00     2400.00  2023-03-29\n",
      "3923  4523860.80     2160.00  2022-10-03\n",
      "\n",
      "Subsidiary J - Top 3 purchases:\n",
      "         amount  qtyOrdered    tranDate\n",
      "4353 7635585.10     2145.00  2023-01-14\n",
      "7646 3162967.72      864.00  2023-07-28\n",
      "6658 2844990.72    22464.00  2023-06-07\n"
     ]
    }
   ],
   "source": [
    "#Checking if the outliers are real:\n",
    "# Let's investigate if these outliers are real business\n",
    "# Look at the biggest sales for each subsidiary\n",
    "print(\"TOP 5 LARGEST SALES:\")\n",
    "\n",
    "for name, data in [('A', a_sales), ('G', g_sales), ('J', j_sales)]:\n",
    "    print(f\"\\nSubsidiary {name} - Top 5 sales:\")\n",
    "    top_sales = data.nlargest(5, 'amount')[['amount', 'qtyOrdered', 'tranDate']]\n",
    "    print(top_sales)\n",
    "\n",
    "# Look at some big purchases\n",
    "print(\"\\nTOP 3 LARGEST PURCHASES:\")\n",
    "for name, data in [('A', a_purchase), ('G', g_purchase), ('J', j_purchase)]:\n",
    "    print(f\"\\nSubsidiary {name} - Top 3 purchases:\")\n",
    "    top_purchases = data.nlargest(3, 'amount')[['amount', 'qtyOrdered', 'tranDate']]\n",
    "    print(top_purchases)"
   ]
  },
  {
   "cell_type": "markdown",
   "id": "802bd1bc",
   "metadata": {},
   "source": [
    "The above data shows that the outliers are real. \n",
    "\n",
    "- Realistic quantities: 48,000 units, 53,352 units (bulk solar equipment)\n",
    "- Consistent dates: Real transaction dates in 2022-2023\n",
    "- Business pattern: Large quantities = large amounts (makes sense)\n",
    "\n",
    "\n",
    "Business Insight:\n",
    "- Retail/Small Commercial: €100-€10k orders\n",
    "- Large Solar Projects: €1M-€48M orders (solar farms, utility projects)"
   ]
  },
  {
   "cell_type": "markdown",
   "id": "f7c84bec",
   "metadata": {},
   "source": [
    "### 1. INITIAL FINANCIAL ANALYSIS"
   ]
  },
  {
   "cell_type": "code",
   "execution_count": 15,
   "id": "72432ee9",
   "metadata": {},
   "outputs": [
    {
     "name": "stdout",
     "output_type": "stream",
     "text": [
      "Revenue analysis (including returns):\n",
      "Subsidiary A: €432,040,930\n",
      "Subsidiary G: €1,342,551,182\n",
      "Subsidiary J: €1,714,487,452\n"
     ]
    }
   ],
   "source": [
    "# Revenue analysis (including returns/refunds)\n",
    "print(\"Revenue analysis (including returns):\")\n",
    "a_revenue = a_sales['amount'].sum()\n",
    "g_revenue = g_sales['amount'].sum()\n",
    "j_revenue = j_sales['amount'].sum()\n",
    "\n",
    "print(f\"Subsidiary A: €{a_revenue:,.0f}\")\n",
    "print(f\"Subsidiary G: €{g_revenue:,.0f}\")\n",
    "print(f\"Subsidiary J: €{j_revenue:,.0f}\")"
   ]
  },
  {
   "cell_type": "code",
   "execution_count": 16,
   "id": "846fa1b6",
   "metadata": {},
   "outputs": [
    {
     "name": "stdout",
     "output_type": "stream",
     "text": [
      "\n",
      "Largest sales transactions:\n",
      "A largest sale: €48,243,171\n",
      "G largest sale: €5,677,990\n",
      "J largest sale: €11,457,820\n"
     ]
    }
   ],
   "source": [
    "# Check the outliers\n",
    "print(\"\\nLargest sales transactions:\")\n",
    "print(f\"A largest sale: €{a_sales['amount'].max():,.0f}\")\n",
    "print(f\"G largest sale: €{g_sales['amount'].max():,.0f}\")\n",
    "print(f\"J largest sale: €{j_sales['amount'].max():,.0f}\")"
   ]
  },
  {
   "cell_type": "code",
   "execution_count": 20,
   "id": "18bcf4d9",
   "metadata": {},
   "outputs": [
    {
     "name": "stdout",
     "output_type": "stream",
     "text": [
      "\n",
      "Largest refunds (negative amounts):\n",
      "A largest refund: €-7,111\n",
      "G largest refund: €-6,381\n",
      "J largest refund: €-1,059,676\n"
     ]
    }
   ],
   "source": [
    "# Check the big refunds\n",
    "print(\"\\nLargest refunds (negative amounts):\")\n",
    "print(f\"A largest refund: €{a_sales['amount'].min():,.0f}\")\n",
    "print(f\"G largest refund: €{g_sales['amount'].min():,.0f}\")\n",
    "print(f\"J largest refund: €{j_sales['amount'].min():,.0f}\")"
   ]
  },
  {
   "cell_type": "code",
   "execution_count": 21,
   "id": "0b5c45eb",
   "metadata": {},
   "outputs": [
    {
     "name": "stdout",
     "output_type": "stream",
     "text": [
      "\n",
      "Purchase totals:\n",
      "Subsidiary A: €680,530,916\n",
      "Subsidiary G: €1,139,240,128\n",
      "Subsidiary J: €1,412,641,618\n"
     ]
    }
   ],
   "source": [
    "# Purchase totals\n",
    "a_purchases = a_purchase['amount'].sum()\n",
    "g_purchases = g_purchase['amount'].sum()\n",
    "j_purchases = j_purchase['amount'].sum()\n",
    "\n",
    "print(f\"\\nPurchase totals:\")\n",
    "print(f\"Subsidiary A: €{a_purchases:,.0f}\")\n",
    "print(f\"Subsidiary G: €{g_purchases:,.0f}\")\n",
    "print(f\"Subsidiary J: €{j_purchases:,.0f}\")"
   ]
  },
  {
   "cell_type": "code",
   "execution_count": 22,
   "id": "274bb7d0",
   "metadata": {},
   "outputs": [
    {
     "name": "stdout",
     "output_type": "stream",
     "text": [
      "\n",
      "Quick profitability check (Revenue - Purchases):\n",
      "Subsidiary A: €-248,489,986\n",
      "Subsidiary G: €203,311,054\n",
      "Subsidiary J: €301,845,834\n"
     ]
    }
   ],
   "source": [
    "# Quick profitability check\n",
    "print(f\"\\nQuick profitability check (Revenue - Purchases):\")\n",
    "print(f\"Subsidiary A: €{a_revenue - a_purchases:,.0f}\")\n",
    "print(f\"Subsidiary G: €{g_revenue - g_purchases:,.0f}\")\n",
    "print(f\"Subsidiary J: €{j_revenue - j_purchases:,.0f}\")"
   ]
  },
  {
   "cell_type": "markdown",
   "id": "18f1ea19",
   "metadata": {},
   "source": [
    "Subsidiary A shows NEGATIVE profitability!"
   ]
  },
  {
   "cell_type": "markdown",
   "id": "b6e5970d",
   "metadata": {},
   "source": [
    "### 2: INVESTIGATING THE ANOMALY"
   ]
  },
  {
   "cell_type": "code",
   "execution_count": 23,
   "id": "621a3e54",
   "metadata": {},
   "outputs": [
    {
     "name": "stdout",
     "output_type": "stream",
     "text": [
      "Checking purchase order statuses - maybe canceled orders are included?\n",
      "\n",
      "Subsidiary A Purchase Order Status:\n",
      "status\n",
      "Fully Billed              1733\n",
      "Canceled                   310\n",
      "Approved by Supervisor      80\n",
      "Approved                    48\n",
      "Name: count, dtype: int64\n",
      "\n",
      "Subsidiary G Purchase Order Status:\n",
      "status\n",
      "Fully Billed              12999\n",
      "Closed                     1117\n",
      "Rejected by Supervisor       74\n",
      "Pending Bill                 34\n",
      "Partially Received           19\n",
      "Pending Receipt               1\n",
      "Name: count, dtype: int64\n",
      "\n",
      "Subsidiary J Purchase Order Status:\n",
      "status\n",
      "Fully Billed                   8654\n",
      "Closed                          803\n",
      "Rejected by Supervisor           45\n",
      "Pending Supervisor Approval      10\n",
      "Name: count, dtype: int64\n"
     ]
    }
   ],
   "source": [
    "print(\"Checking purchase order statuses - maybe canceled orders are included?\")\n",
    "\n",
    "print(\"\\nSubsidiary A Purchase Order Status:\")\n",
    "a_status_counts = a_purchase['status'].value_counts()\n",
    "print(a_status_counts)\n",
    "\n",
    "print(\"\\nSubsidiary G Purchase Order Status:\")\n",
    "g_status_counts = g_purchase['status'].value_counts()\n",
    "print(g_status_counts)\n",
    "\n",
    "print(\"\\nSubsidiary J Purchase Order Status:\")\n",
    "j_status_counts = j_purchase['status'].value_counts()\n",
    "print(j_status_counts)"
   ]
  },
  {
   "cell_type": "code",
   "execution_count": 25,
   "id": "71ca0c5a",
   "metadata": {},
   "outputs": [
    {
     "name": "stdout",
     "output_type": "stream",
     "text": [
      "COMPLETED PURCHASES ONLY:\n",
      "A completed purchases: €293,397,946\n",
      "G completed purchases: €997,520,297\n",
      "J completed purchases: €1,163,441,535\n"
     ]
    }
   ],
   "source": [
    "# Calculate only COMPLETED purchases (not canceled/pending)\n",
    "print(\"COMPLETED PURCHASES ONLY:\")\n",
    "\n",
    "# Filter for only 'Fully Billed' status (completed purchases)\n",
    "a_completed_purchases = a_purchase[a_purchase['status'] == 'Fully Billed']['amount'].sum()\n",
    "g_completed_purchases = g_purchase[g_purchase['status'] == 'Fully Billed']['amount'].sum()\n",
    "j_completed_purchases = j_purchase[j_purchase['status'] == 'Fully Billed']['amount'].sum()\n",
    "\n",
    "print(f\"A completed purchases: €{a_completed_purchases:,.0f}\")\n",
    "print(f\"G completed purchases: €{g_completed_purchases:,.0f}\")\n",
    "print(f\"J completed purchases: €{j_completed_purchases:,.0f}\")"
   ]
  },
  {
   "cell_type": "code",
   "execution_count": 26,
   "id": "0575781f",
   "metadata": {},
   "outputs": [
    {
     "name": "stdout",
     "output_type": "stream",
     "text": [
      "\n",
      "CORRECTED PROFITABILITY (using completed purchases only):\n",
      "Subsidiary A: €138,642,985\n",
      "Subsidiary G: €345,030,885\n",
      "Subsidiary J: €551,045,917\n"
     ]
    }
   ],
   "source": [
    "# Recalculate CORRECT profitability\n",
    "print(\"\\nCORRECTED PROFITABILITY (using completed purchases only):\")\n",
    "a_correct_profit = a_revenue - a_completed_purchases\n",
    "g_correct_profit = g_revenue - g_completed_purchases\n",
    "j_correct_profit = j_revenue - j_completed_purchases\n",
    "\n",
    "print(f\"Subsidiary A: €{a_correct_profit:,.0f}\")\n",
    "print(f\"Subsidiary G: €{g_correct_profit:,.0f}\")\n",
    "print(f\"Subsidiary J: €{j_correct_profit:,.0f}\")"
   ]
  },
  {
   "cell_type": "code",
   "execution_count": 27,
   "id": "5ef34106",
   "metadata": {},
   "outputs": [
    {
     "name": "stdout",
     "output_type": "stream",
     "text": [
      "\n",
      "PROFIT MARGINS:\n",
      "Subsidiary A: 32.1%\n",
      "Subsidiary G: 25.7%\n",
      "Subsidiary J: 32.1%\n"
     ]
    }
   ],
   "source": [
    "# Calculate profit margins\n",
    "print(\"\\nPROFIT MARGINS:\")\n",
    "print(f\"Subsidiary A: {(a_correct_profit/a_revenue)*100:.1f}%\")\n",
    "print(f\"Subsidiary G: {(g_correct_profit/g_revenue)*100:.1f}%\")\n",
    "print(f\"Subsidiary J: {(j_correct_profit/j_revenue)*100:.1f}%\")"
   ]
  },
  {
   "cell_type": "markdown",
   "id": "b823a640",
   "metadata": {},
   "source": [
    "### FINANCIAL PERFORMANCE ANALYSIS - KEY FINDINGS\n",
    "\n",
    "#### Overall Performance Ranking:\n",
    "1. **Subsidiary J**: €1.71B revenue, €551M profit (32.1% margin) - BEST PERFORMER\n",
    "2. **Subsidiary G**: €1.34B revenue, €345M profit (25.7% margin) - SOLID PERFORMER  \n",
    "3. **Subsidiary A**: €432M revenue, €139M profit (32.1% margin) - SMALLEST BUT EFFICIENT\n",
    "\n",
    "#### Critical Data Discovery:\n",
    "- **Initial analysis showed Subsidiary A with -€248M loss (WRONG)**\n",
    "- **Root cause**: 310 canceled purchase orders (€387M) were incorrectly included\n",
    "- **Corrected analysis**: All subsidiaries are profitable\n",
    "\n",
    "### Operational Issues Identified:\n",
    "- **Subsidiary A**: 14% purchase order cancellation rate (needs improvement)\n",
    "- **Subsidiaries G & J**: <1% cancellation rate (efficient operations)\n",
    "\n",
    "### Business Model Insights:\n",
    "- **All subsidiaries operate retail + large commercial solar projects**\n",
    "- **Large outlier transactions (€1M-€48M) are legitimate solar farm installations**\n",
    "- **Subsidiaries A & J**: Higher profit margins (32.1%)\n",
    "- **Subsidiary G**: Lower margin (25.7%) but largest scale\n",
    "\n",
    "### Executive Recommendations:\n",
    "1. **Invest in Subsidiary J expansion** (best overall performance)\n",
    "2. **Improve Subsidiary A procurement processes** (reduce cancellations)\n",
    "3. **Leverage Subsidiary A's efficiency model** for G & J\n",
    "4. **Focus on large commercial solar projects** (higher value transactions)"
   ]
  },
  {
   "cell_type": "markdown",
   "id": "7df2b201",
   "metadata": {},
   "source": [
    "### 3: DEEPER DATA QUALITY INVESTIGATION"
   ]
  },
  {
   "cell_type": "code",
   "execution_count": 29,
   "id": "730bb95c",
   "metadata": {},
   "outputs": [
    {
     "name": "stdout",
     "output_type": "stream",
     "text": [
      "If purchase orders had canceled items, maybe sales orders do too...\n",
      "\n",
      "Subsidiary A Sales Order Status:\n",
      "status\n",
      "Billed                         26059\n",
      "Cancelled                       6233\n",
      "Pending Billing                  381\n",
      "Created                          150\n",
      "Approved by Supervisor            16\n",
      "Goods Reserved                     3\n",
      "Pending Supervisor Approval        2\n",
      "Name: count, dtype: int64\n",
      "\n",
      "Subsidiary G Sales Order Status:\n",
      "status\n",
      "Billed       126595\n",
      "Closed         8068\n",
      "Cancelled       883\n",
      "Name: count, dtype: int64\n",
      "\n",
      "Subsidiary J Sales Order Status:\n",
      "status\n",
      "Billed       123415\n",
      "Closed        17222\n",
      "Cancelled      2524\n",
      "Name: count, dtype: int64\n"
     ]
    }
   ],
   "source": [
    "print(\"If purchase orders had canceled items, maybe sales orders do too...\")\n",
    "\n",
    "print(\"\\nSubsidiary A Sales Order Status:\")\n",
    "a_sales_status = a_sales['status'].value_counts()\n",
    "print(a_sales_status)\n",
    "\n",
    "print(\"\\nSubsidiary G Sales Order Status:\")\n",
    "g_sales_status = g_sales['status'].value_counts()\n",
    "print(g_sales_status)\n",
    "\n",
    "print(\"\\nSubsidiary J Sales Order Status:\")\n",
    "j_sales_status = j_sales['status'].value_counts()\n",
    "print(j_sales_status)"
   ]
  },
  {
   "cell_type": "code",
   "execution_count": 34,
   "id": "a50ace42",
   "metadata": {},
   "outputs": [
    {
     "name": "stdout",
     "output_type": "stream",
     "text": [
      "\n",
      "Subsidiary A has 6,233 canceled sales orders!\n",
      "Sales Order Issues Found:\n",
      "Subsidiary A: 6,233 canceled sales orders (19.0% cancellation rate!)\n",
      "Subsidiary G: 883 canceled sales orders (0.7% cancellation rate)\n",
      "Subsidiary J: 2,524 canceled sales orders (1.8% cancellation rate)\n"
     ]
    }
   ],
   "source": [
    "# Calculate the actual cancellation rates\n",
    "a_cancel_count = (a_sales['status'] == 'Cancelled').sum()\n",
    "g_cancel_count = (g_sales['status'] == 'Cancelled').sum()\n",
    "j_cancel_count = (j_sales['status'] == 'Cancelled').sum()\n",
    "\n",
    "a_cancel_rate = (a_cancel_count / len(a_sales)) * 100\n",
    "g_cancel_rate = (g_cancel_count / len(g_sales)) * 100\n",
    "j_cancel_rate = (j_cancel_count / len(j_sales)) * 100\n",
    "\n",
    "print(f\"\\nSubsidiary A has {a_cancel_count:,} canceled sales orders!\")\n",
    "print(\"Sales Order Issues Found:\")\n",
    "print(f\"Subsidiary A: {a_cancel_count:,} canceled sales orders ({a_cancel_rate:.1f}% cancellation rate!)\")\n",
    "print(f\"Subsidiary G: {g_cancel_count:,} canceled sales orders ({g_cancel_rate:.1f}% cancellation rate)\")\n",
    "print(f\"Subsidiary J: {j_cancel_count:,} canceled sales orders ({j_cancel_rate:.1f}% cancellation rate)\")"
   ]
  },
  {
   "cell_type": "code",
   "execution_count": 35,
   "id": "1887bc57",
   "metadata": {
    "scrolled": true
   },
   "outputs": [
    {
     "name": "stdout",
     "output_type": "stream",
     "text": [
      "\n",
      "SALES COMPLETION RATES:\n",
      "Subsidiary A: 79.3% completion rate\n",
      "Subsidiary G: 99.3% completion rate\n",
      "Subsidiary J: 98.2% completion rate\n",
      "\n",
      "Subsidiary A has serious operational issues:\n",
      "   • Only 79.3% of sales orders complete successfully\n",
      "   • 19.0% cancellation rate is extremely high\n",
      "   • This suggests major problems with order fulfillment processes\n"
     ]
    }
   ],
   "source": [
    "# Show completion rates for context\n",
    "a_completion_rate = ((a_sales['status'] == 'Billed').sum() / len(a_sales)) * 100\n",
    "g_completion_rate = ((g_sales['status'].isin(['Billed', 'Closed'])).sum() / len(g_sales)) * 100\n",
    "j_completion_rate = ((j_sales['status'].isin(['Billed', 'Closed'])).sum() / len(j_sales)) * 100\n",
    "\n",
    "print(f\"\\nSALES COMPLETION RATES:\")\n",
    "print(f\"Subsidiary A: {a_completion_rate:.1f}% completion rate\")\n",
    "print(f\"Subsidiary G: {g_completion_rate:.1f}% completion rate\") \n",
    "print(f\"Subsidiary J: {j_completion_rate:.1f}% completion rate\")\n",
    "\n",
    "print(f\"\\nSubsidiary A has serious operational issues:\")\n",
    "print(f\"   • Only {a_completion_rate:.1f}% of sales orders complete successfully\")\n",
    "print(f\"   • {a_cancel_rate:.1f}% cancellation rate is extremely high\")\n",
    "print(f\"   • This suggests major problems with order fulfillment processes\")"
   ]
  },
  {
   "cell_type": "markdown",
   "id": "8c00c7f8",
   "metadata": {},
   "source": [
    "Now that we have identified data quality issues in both sales AND purchases, will recalculate everything using only COMPLETED transactions."
   ]
  },
  {
   "cell_type": "code",
   "execution_count": 36,
   "id": "68bbccc8",
   "metadata": {},
   "outputs": [
    {
     "name": "stdout",
     "output_type": "stream",
     "text": [
      "\n",
      "Cleaned sales order counts:\n",
      "Subsidiary A: 26,059 completed (vs 32,844 total)\n",
      "Subsidiary G: 134,663 completed (vs 135,546 total)\n",
      "Subsidiary J: 140,637 completed (vs 143,161 total)\n"
     ]
    }
   ],
   "source": [
    "# Cleaning sales data - only completed transactions\n",
    "# Filter to only completed sales (Billed/Closed status)\n",
    "a_sales_clean = a_sales[a_sales['status'].isin(['Billed'])]\n",
    "g_sales_clean = g_sales[g_sales['status'].isin(['Billed', 'Closed'])]\n",
    "j_sales_clean = j_sales[j_sales['status'].isin(['Billed', 'Closed'])]\n",
    "\n",
    "print(\"\\nCleaned sales order counts:\")\n",
    "print(f\"Subsidiary A: {len(a_sales_clean):,} completed (vs {len(a_sales):,} total)\")\n",
    "print(f\"Subsidiary G: {len(g_sales_clean):,} completed (vs {len(g_sales):,} total)\")\n",
    "print(f\"Subsidiary J: {len(j_sales_clean):,} completed (vs {len(j_sales):,} total)\")"
   ]
  },
  {
   "cell_type": "code",
   "execution_count": 37,
   "id": "63b4b165",
   "metadata": {},
   "outputs": [
    {
     "name": "stdout",
     "output_type": "stream",
     "text": [
      "\n",
      "CORRECTED REVENUE (completed sales only):\n",
      "Subsidiary A: €227,891,447\n",
      "Subsidiary G: €1,311,301,519\n",
      "Subsidiary J: €1,550,822,997\n"
     ]
    }
   ],
   "source": [
    "# Recalculate CORRECTED revenue with clean data\n",
    "print(\"\\nCORRECTED REVENUE (completed sales only):\")\n",
    "a_revenue_clean = a_sales_clean['amount'].sum()\n",
    "g_revenue_clean = g_sales_clean['amount'].sum()\n",
    "j_revenue_clean = j_sales_clean['amount'].sum()\n",
    "\n",
    "print(f\"Subsidiary A: €{a_revenue_clean:,.0f}\")\n",
    "print(f\"Subsidiary G: €{g_revenue_clean:,.0f}\")\n",
    "print(f\"Subsidiary J: €{j_revenue_clean:,.0f}\")"
   ]
  },
  {
   "cell_type": "code",
   "execution_count": 38,
   "id": "06f26666",
   "metadata": {},
   "outputs": [
    {
     "name": "stdout",
     "output_type": "stream",
     "text": [
      "\n",
      "RECALCULATING COMPLETED PURCHASES:\n",
      "A completed purchases: €293,397,946\n",
      "G completed purchases: €997,520,297\n",
      "J completed purchases: €1,163,441,535\n"
     ]
    }
   ],
   "source": [
    "# Recalculate completed purchases (from our earlier analysis)\n",
    "print(\"\\nRECALCULATING COMPLETED PURCHASES:\")\n",
    "\n",
    "a_completed_purchases = a_purchase[a_purchase['status'] == 'Fully Billed']['amount'].sum()\n",
    "g_completed_purchases = g_purchase[g_purchase['status'] == 'Fully Billed']['amount'].sum()\n",
    "j_completed_purchases = j_purchase[j_purchase['status'] == 'Fully Billed']['amount'].sum()\n",
    "\n",
    "print(f\"A completed purchases: €{a_completed_purchases:,.0f}\")\n",
    "print(f\"G completed purchases: €{g_completed_purchases:,.0f}\")\n",
    "print(f\"J completed purchases: €{j_completed_purchases:,.0f}\")"
   ]
  },
  {
   "cell_type": "code",
   "execution_count": 39,
   "id": "c467d1df",
   "metadata": {},
   "outputs": [
    {
     "name": "stdout",
     "output_type": "stream",
     "text": [
      "\n",
      "FINAL CORRECTED PROFITABILITY:\n",
      "Subsidiary A: €-65,506,498\n",
      "Subsidiary G: €313,781,222\n",
      "Subsidiary J: €387,381,461\n"
     ]
    }
   ],
   "source": [
    "print(\"\\nFINAL CORRECTED PROFITABILITY:\")\n",
    "a_final_profit = a_revenue_clean - a_completed_purchases\n",
    "g_final_profit = g_revenue_clean - g_completed_purchases\n",
    "j_final_profit = j_revenue_clean - j_completed_purchases\n",
    "\n",
    "print(f\"Subsidiary A: €{a_final_profit:,.0f}\")\n",
    "print(f\"Subsidiary G: €{g_final_profit:,.0f}\")\n",
    "print(f\"Subsidiary J: €{j_final_profit:,.0f}\")"
   ]
  },
  {
   "cell_type": "code",
   "execution_count": 40,
   "id": "e58e9a5f",
   "metadata": {},
   "outputs": [
    {
     "name": "stdout",
     "output_type": "stream",
     "text": [
      "\n",
      "FINAL PROFIT MARGINS:\n",
      "Subsidiary A: -28.7%\n",
      "Subsidiary G: 23.9%\n",
      "Subsidiary J: 25.0%\n"
     ]
    }
   ],
   "source": [
    "print(\"\\nFINAL PROFIT MARGINS:\")\n",
    "a_margin = (a_final_profit / a_revenue_clean) * 100\n",
    "g_margin = (g_final_profit / g_revenue_clean) * 100\n",
    "j_margin = (j_final_profit / j_revenue_clean) * 100\n",
    "\n",
    "print(f\"Subsidiary A: {a_margin:.1f}%\")\n",
    "print(f\"Subsidiary G: {g_margin:.1f}%\")\n",
    "print(f\"Subsidiary J: {j_margin:.1f}%\")"
   ]
  },
  {
   "cell_type": "code",
   "execution_count": 43,
   "id": "48d8e5fa",
   "metadata": {},
   "outputs": [
    {
     "name": "stdout",
     "output_type": "stream",
     "text": [
      "\n",
      "Subsidiary A is actually LOSING MONEY!\n",
      "The complete investigation revealed:\n",
      "• Actual revenue: €227,891,447 (much lower than initial €432,040,930)\n",
      "• Net loss: €65,506,498\n",
      "• 19% sales cancellation rate + 14% purchase cancellation rate\n",
      "• This indicates serious operational and management problems\n"
     ]
    }
   ],
   "source": [
    "print(\"\\nSubsidiary A is actually LOSING MONEY!\")\n",
    "print(\"The complete investigation revealed:\")\n",
    "print(f\"• Actual revenue: €{a_revenue_clean:,.0f} (much lower than initial €{a_revenue:,.0f})\")\n",
    "print(f\"• Net loss: €{abs(a_final_profit):,.0f}\")\n",
    "print(\"• 19% sales cancellation rate + 14% purchase cancellation rate\")\n",
    "print(\"• This indicates serious operational and management problems\")"
   ]
  },
  {
   "cell_type": "markdown",
   "id": "e2723b3a",
   "metadata": {},
   "source": [
    "### 4. BUSINESS SEGMENT ANALYSIS"
   ]
  },
  {
   "cell_type": "code",
   "execution_count": 44,
   "id": "d1c3496e",
   "metadata": {},
   "outputs": [
    {
     "name": "stdout",
     "output_type": "stream",
     "text": [
      "\n",
      "Subsidiary A Business Breakdown:\n",
      "  Total Revenue: €227,891,447\n",
      "  Retail Business: €42,894,896 (23,194 orders)\n",
      "  Large Projects: €184,996,551 (2,865 projects)\n",
      "  % from Large Projects: 81.2%\n",
      "  Average Project Size: €64,571\n",
      "  Top 3 project sizes: €4,442,642, €3,126,303, €2,707,308\n",
      "\n",
      "Subsidiary G Business Breakdown:\n",
      "  Total Revenue: €1,311,301,519\n",
      "  Retail Business: €136,903,972 (117,013 orders)\n",
      "  Large Projects: €1,174,397,547 (17,650 projects)\n",
      "  % from Large Projects: 89.6%\n",
      "  Average Project Size: €66,538\n",
      "  Top 3 project sizes: €5,677,990, €2,557,793, €2,557,793\n",
      "\n",
      "Subsidiary J Business Breakdown:\n",
      "  Total Revenue: €1,550,822,997\n",
      "  Retail Business: €290,372,253 (124,087 orders)\n",
      "  Large Projects: €1,260,450,744 (16,550 projects)\n",
      "  % from Large Projects: 81.3%\n",
      "  Average Project Size: €76,160\n",
      "  Top 3 project sizes: €4,753,114, €3,050,689, €2,520,478\n"
     ]
    }
   ],
   "source": [
    "# Define thresholds for retail vs large projects (based on our earlier outlier analysis)\n",
    "thresholds = {'A': 11719, 'G': 7824, 'J': 13195}\n",
    "\n",
    "for name, sales_data in [('A', a_sales_clean), ('G', g_sales_clean), ('J', j_sales_clean)]:\n",
    "    \n",
    "    threshold = thresholds[name]\n",
    "    \n",
    "    # Separate retail from large projects\n",
    "    retail_sales = sales_data[sales_data['amount'] <= threshold]\n",
    "    large_projects = sales_data[sales_data['amount'] > threshold]\n",
    "    \n",
    "    total_revenue = sales_data['amount'].sum()\n",
    "    retail_revenue = retail_sales['amount'].sum()\n",
    "    project_revenue = large_projects['amount'].sum()\n",
    "    \n",
    "    print(f\"\\nSubsidiary {name} Business Breakdown:\")\n",
    "    print(f\"  Total Revenue: €{total_revenue:,.0f}\")\n",
    "    print(f\"  Retail Business: €{retail_revenue:,.0f} ({len(retail_sales):,} orders)\")\n",
    "    print(f\"  Large Projects: €{project_revenue:,.0f} ({len(large_projects):,} projects)\")\n",
    "    \n",
    "    if len(large_projects) > 0:\n",
    "        project_percentage = (project_revenue / total_revenue) * 100\n",
    "        avg_project_size = project_revenue / len(large_projects)\n",
    "        print(f\"  % from Large Projects: {project_percentage:.1f}%\")\n",
    "        print(f\"  Average Project Size: €{avg_project_size:,.0f}\")\n",
    "        \n",
    "        # Show some example large projects\n",
    "        if len(large_projects) > 0:\n",
    "            largest_projects = large_projects.nlargest(3, 'amount')\n",
    "            print(f\"  Top 3 project sizes: €{largest_projects['amount'].iloc[0]:,.0f}, €{largest_projects['amount'].iloc[1]:,.0f}, €{largest_projects['amount'].iloc[2]:,.0f}\")\n",
    "    else:\n",
    "        print(f\"  % from Large Projects: 0%\")"
   ]
  },
  {
   "cell_type": "markdown",
   "id": "4f4e1cfc",
   "metadata": {},
   "source": [
    "All Subsidiaries are **Project-Focused:**\n",
    "\n",
    "- Subsidiary G: 89.6% revenue from large projects (most project-focused)\n",
    "- Subsidiary A: 81.2% revenue from large projects\n",
    "- Subsidiary J: 81.3% revenue from large projects\n",
    "\n",
    "**Project Economics:**\n",
    "\n",
    "- Subsidiary J: Highest average project size (€76,160)\n",
    "- Subsidiary G: €66,538 average project\n",
    "- Subsidiary A: €64,571 average project\n",
    "\n",
    "This explains why Subsidiary A is losing money - they're in the high-value commercial solar business but have terrible operational efficiency"
   ]
  },
  {
   "cell_type": "markdown",
   "id": "dcb05852",
   "metadata": {},
   "source": [
    "### 5. Product Category Analysis:"
   ]
  },
  {
   "cell_type": "code",
   "execution_count": 46,
   "id": "039ef90f",
   "metadata": {},
   "outputs": [
    {
     "name": "stdout",
     "output_type": "stream",
     "text": [
      "\n",
      "Product categories available:\n",
      "\n",
      "Subsidiary A categories:\n",
      "itemCategory\n",
      "Racking                 179\n",
      "Inverters               174\n",
      "Other                   131\n",
      "Storage                  53\n",
      "Inverter Accessories     36\n",
      "Charging Stations        34\n",
      "Modules                  29\n",
      "Name: count, dtype: int64\n",
      "\n",
      "Subsidiary G categories:\n",
      "itemCategory\n",
      "Other                   478\n",
      "Inverters               342\n",
      "Racking                 338\n",
      "Inverter Accessories    232\n",
      "Modules                 210\n",
      "Charging Stations        71\n",
      "Storage                  49\n",
      "Shelter                  17\n",
      "Name: count, dtype: int64\n",
      "\n",
      "Subsidiary J categories:\n",
      "itemCategory\n",
      "Racking                 562\n",
      "Inverters               339\n",
      "Modules                 231\n",
      "Inverter Accessories    210\n",
      "Other                   173\n",
      "Charging Stations       127\n",
      "Storage                  65\n",
      "Name: count, dtype: int64\n"
     ]
    }
   ],
   "source": [
    "# Show product categories for each subsidiary\n",
    "print(\"\\nProduct categories available:\")\n",
    "\n",
    "print(\"\\nSubsidiary A categories:\")\n",
    "a_categories = a_items['itemCategory'].value_counts()\n",
    "print(a_categories)\n",
    "\n",
    "print(\"\\nSubsidiary G categories:\")\n",
    "g_categories = g_items['itemCategory'].value_counts()\n",
    "print(g_categories)\n",
    "\n",
    "print(\"\\nSubsidiary J categories:\")\n",
    "j_categories = j_items['itemCategory'].value_counts()\n",
    "print(j_categories)"
   ]
  },
  {
   "cell_type": "code",
   "execution_count": 47,
   "id": "b4072e48",
   "metadata": {},
   "outputs": [
    {
     "name": "stdout",
     "output_type": "stream",
     "text": [
      "\n",
      "REVENUE BY PRODUCT CATEGORY:\n",
      "\n",
      "Subsidiary A - Revenue by Product Category:\n",
      "  Storage: €127,859,749 (56.1%) - 4,079 orders, €31346 avg\n",
      "  Inverters: €57,024,335 (25.0%) - 4,339 orders, €13142 avg\n",
      "  Racking: €16,218,302 (7.1%) - 7,862 orders, €2063 avg\n",
      "  Modules: €15,419,313 (6.8%) - 851 orders, €18119 avg\n",
      "  Other: €7,079,986 (3.1%) - 7,860 orders, €901 avg\n",
      "  Inverter Accessories: €3,542,982 (1.6%) - 807 orders, €4390 avg\n",
      "  Charging Stations: €746,781 (0.3%) - 261 orders, €2861 avg\n",
      "\n",
      "Subsidiary G - Revenue by Product Category:\n",
      "  Modules: €813,090,227 (62.0%) - 10,908 orders, €74541 avg\n",
      "  Inverters: €232,395,498 (17.7%) - 14,466 orders, €16065 avg\n",
      "  Racking: €102,148,471 (7.8%) - 69,149 orders, €1477 avg\n",
      "  Storage: €68,009,708 (5.2%) - 1,806 orders, €37658 avg\n",
      "  Inverter Accessories: €45,962,616 (3.5%) - 19,060 orders, €2411 avg\n",
      "  Other: €41,880,875 (3.2%) - 17,995 orders, €2327 avg\n",
      "  Shelter: €5,286,199 (0.4%) - 831 orders, €6361 avg\n",
      "  Charging Stations: €2,527,926 (0.2%) - 448 orders, €5643 avg\n",
      "\n",
      "Subsidiary J - Revenue by Product Category:\n",
      "  Modules: €597,882,364 (38.6%) - 19,571 orders, €30549 avg\n",
      "  Inverters: €557,685,767 (36.0%) - 34,863 orders, €15996 avg\n",
      "  Storage: €237,023,724 (15.3%) - 9,160 orders, €25876 avg\n",
      "  Inverter Accessories: €85,944,713 (5.5%) - 37,778 orders, €2275 avg\n",
      "  Racking: €49,763,777 (3.2%) - 29,438 orders, €1690 avg\n",
      "  Other: €14,686,747 (0.9%) - 6,351 orders, €2313 avg\n",
      "  Charging Stations: €7,835,905 (0.5%) - 3,476 orders, €2254 avg\n"
     ]
    }
   ],
   "source": [
    "# Calculate revenue by product category\n",
    "print(\"\\nREVENUE BY PRODUCT CATEGORY:\")\n",
    "\n",
    "for name, sales_data, items_data in [('A', a_sales_clean, a_items), \n",
    "                                     ('G', g_sales_clean, g_items), \n",
    "                                     ('J', j_sales_clean, j_items)]:\n",
    "    \n",
    "    print(f\"\\nSubsidiary {name} - Revenue by Product Category:\")\n",
    "    \n",
    "    # Creating lookup dictionary for item categories\n",
    "    item_category_lookup = dict(zip(items_data['guid'], items_data['itemCategory']))\n",
    "    \n",
    "    # Adding categories to sales data\n",
    "    sales_with_categories = sales_data.copy()\n",
    "    sales_with_categories['category'] = sales_with_categories['itemGuid'].map(item_category_lookup)\n",
    "    \n",
    "    # Calculating revenue by category\n",
    "    category_revenue = sales_with_categories.groupby('category')['amount'].sum().sort_values(ascending=False)\n",
    "    \n",
    "    #All categories with percentages\n",
    "    total_revenue = sales_with_categories['amount'].sum()\n",
    "    for category, revenue in category_revenue.items():\n",
    "        if pd.notna(category):  # Skip NaN categories\n",
    "            percentage = (revenue / total_revenue) * 100\n",
    "            order_count = sales_with_categories[sales_with_categories['category'] == category].shape[0]\n",
    "            avg_order = revenue / order_count if order_count > 0 else 0\n",
    "            print(f\"  {category}: €{revenue:,.0f} ({percentage:.1f}%) - {order_count:,} orders, €{avg_order:.0f} avg\")\n"
   ]
  },
  {
   "cell_type": "markdown",
   "id": "5980b547",
   "metadata": {},
   "source": [
    "**BUSINESS QUESTION: Which solar products drive revenue for each subsidiary?**\n",
    "\n",
    "This analysis reveals each subsidiary's product specialization and explains their performance differences:\n",
    "\n",
    "**KEY FINDINGS:**\n",
    "- Subsidiary A: Storage specialist (56% revenue, €31k avg order)\n",
    "  - Premium battery storage focus but operational failures hurt profitability\n",
    "  \n",
    "- Subsidiary G: Module specialist (62% revenue, €74k avg order) \n",
    "  - Highest-value solar panel installations with excellent operational efficiency\n",
    "  \n",
    "- Subsidiary J: Diversified portfolio (39% modules, 36% inverters, 15% storage)\n",
    "  - Balanced approach reduces risk and enables sustainable growth\n",
    "\n",
    "**STRATEGIC IMPLICATIONS:**\n",
    "- A has the right premium strategy but needs operational fixes\n",
    "- G found their profitable niche and should be expanded\n",
    "- J's diversification model provides stability and growth potential\n",
    "\n",
    "This product mix analysis directly informs:\n",
    "- Investment allocation decisions\n",
    "- Operational improvement priorities  \n",
    "- Cross-subsidiary knowledge sharing opportunities"
   ]
  },
  {
   "cell_type": "markdown",
   "id": "3d251992",
   "metadata": {},
   "source": [
    "### 5.1. OPERATIONAL EFFICIENCY METRICS"
   ]
  },
  {
   "cell_type": "markdown",
   "id": "8e44ca8e",
   "metadata": {},
   "source": [
    "**BUSINESS QUESTION: How efficiently do subsidiaries manage inventory and operations?**\n",
    "\n",
    "This analysis examines:\n",
    "- Inventory turnover rates (working capital efficiency)\n",
    "- Stock management effectiveness  \n",
    "- Operational capacity utilization\n",
    "- Supply chain performance indicators\n",
    "\n",
    "These metrics help operations managers optimize processes and help executives make informed investment decisions about working capital and operational improvements."
   ]
  },
  {
   "cell_type": "code",
   "execution_count": 48,
   "id": "3b51d276",
   "metadata": {},
   "outputs": [
    {
     "name": "stdout",
     "output_type": "stream",
     "text": [
      "\n",
      "INVENTORY MANAGEMENT EFFICIENCY:\n",
      "\n",
      "Subsidiary A Inventory Metrics:\n",
      "  Total items on hand: 750,673\n",
      "  Total available for sale: 683,499\n",
      "  Total committed to orders: 67,174\n",
      "  Total inventory value: €37,295,940\n",
      "  Inventory turnover: 6.1x per year\n",
      "  Days of inventory on hand: 60 days\n",
      "  Inventory efficiency: GOOD\n",
      "  Stock availability: 91.1%\n",
      "\n",
      "Subsidiary G Inventory Metrics:\n",
      "  Total items on hand: 4,683,802\n",
      "  Total available for sale: 3,867,185\n",
      "  Total committed to orders: 816,631\n",
      "  Total inventory value: €118,394,875\n",
      "  Inventory turnover: 11.1x per year\n",
      "  Days of inventory on hand: 33 days\n",
      "  Inventory efficiency: EXCELLENT\n",
      "  Stock availability: 82.6%\n",
      "\n",
      "Subsidiary J Inventory Metrics:\n",
      "  Total items on hand: 3,831,274\n",
      "  Total available for sale: 3,180,545\n",
      "  Total committed to orders: 650,743\n",
      "  Total inventory value: €118,365,986\n",
      "  Inventory turnover: 13.1x per year\n",
      "  Days of inventory on hand: 28 days\n",
      "  Inventory efficiency: EXCELLENT\n",
      "  Stock availability: 83.0%\n"
     ]
    }
   ],
   "source": [
    "#Analyzing inventory management and operational efficiency\n",
    "# Inventory Analysis\n",
    "print(\"\\nINVENTORY MANAGEMENT EFFICIENCY:\")\n",
    "\n",
    "for name, inventory_data, revenue in [('A', a_inventory, a_revenue_clean), \n",
    "                                      ('G', g_inventory, g_revenue_clean), \n",
    "                                      ('J', j_inventory, j_revenue_clean)]:\n",
    "    \n",
    "    print(f\"\\nSubsidiary {name} Inventory Metrics:\")\n",
    "    \n",
    "    # Basic inventory stats\n",
    "    total_on_hand = inventory_data['quantityOnHand'].sum()\n",
    "    total_available = inventory_data['quantityAvailable'].sum()\n",
    "    total_committed = inventory_data['quantityCommitted'].sum()\n",
    "    \n",
    "    # Calculate inventory value\n",
    "    inventory_value = (inventory_data['quantityOnHand'] * inventory_data['averageCost']).sum()\n",
    "    \n",
    "    print(f\"  Total items on hand: {total_on_hand:,}\")\n",
    "    print(f\"  Total available for sale: {total_available:,}\")\n",
    "    print(f\"  Total committed to orders: {total_committed:,}\")\n",
    "    print(f\"  Total inventory value: €{inventory_value:,.0f}\")\n",
    "    \n",
    "    # Calculate inventory turnover\n",
    "    if inventory_value > 0:\n",
    "        turnover_ratio = revenue / inventory_value\n",
    "        days_of_inventory = 365 / turnover_ratio if turnover_ratio > 0 else 0\n",
    "        print(f\"  Inventory turnover: {turnover_ratio:.1f}x per year\")\n",
    "        print(f\"  Days of inventory on hand: {days_of_inventory:.0f} days\")\n",
    "        \n",
    "        # Efficiency assessment\n",
    "        if turnover_ratio > 10:\n",
    "            efficiency = \"EXCELLENT\"\n",
    "        elif turnover_ratio > 5:\n",
    "            efficiency = \"GOOD\" \n",
    "        elif turnover_ratio > 2:\n",
    "            efficiency = \"AVERAGE\"\n",
    "        else:\n",
    "            efficiency = \"POOR - NEEDS IMPROVEMENT\"\n",
    "        \n",
    "        print(f\"  Inventory efficiency: {efficiency}\")\n",
    "    \n",
    "    # Stock availability ratio\n",
    "    if total_on_hand > 0:\n",
    "        availability_ratio = (total_available / total_on_hand) * 100\n",
    "        print(f\"  Stock availability: {availability_ratio:.1f}%\")"
   ]
  },
  {
   "cell_type": "code",
   "execution_count": 49,
   "id": "d08efa9f",
   "metadata": {},
   "outputs": [
    {
     "name": "stdout",
     "output_type": "stream",
     "text": [
      "\n",
      "ORDER PROCESSING EFFICIENCY:\n",
      "\n",
      "Subsidiary A Processing Metrics:\n",
      "  Order completion rate: 79.3%\n",
      "  Average daily orders processed: 71\n",
      "  Processing efficiency: AVERAGE\n",
      "\n",
      "Subsidiary G Processing Metrics:\n",
      "  Order completion rate: 99.3%\n",
      "  Average daily orders processed: 369\n",
      "  Processing efficiency: EXCELLENT\n",
      "\n",
      "Subsidiary J Processing Metrics:\n",
      "  Order completion rate: 98.2%\n",
      "  Average daily orders processed: 385\n",
      "  Processing efficiency: EXCELLENT\n"
     ]
    }
   ],
   "source": [
    "# Order Processing Efficiency\n",
    "print(\"\\nORDER PROCESSING EFFICIENCY:\")\n",
    "\n",
    "for name, sales_clean, sales_total in [('A', a_sales_clean, a_sales), \n",
    "                                       ('G', g_sales_clean, g_sales), \n",
    "                                       ('J', j_sales_clean, j_sales)]:\n",
    "    \n",
    "    print(f\"\\nSubsidiary {name} Processing Metrics:\")\n",
    "    \n",
    "    # Order completion efficiency\n",
    "    completion_rate = (len(sales_clean) / len(sales_total)) * 100\n",
    "    \n",
    "    # Average order processing (using order counts as proxy)\n",
    "    avg_orders_per_day = len(sales_clean) / 365  # Assuming 1 year of data\n",
    "    \n",
    "    print(f\"  Order completion rate: {completion_rate:.1f}%\")\n",
    "    print(f\"  Average daily orders processed: {avg_orders_per_day:.0f}\")\n",
    "    \n",
    "    # Efficiency rating\n",
    "    if completion_rate > 95:\n",
    "        rating = \"EXCELLENT\"\n",
    "    elif completion_rate > 85:\n",
    "        rating = \"GOOD\"\n",
    "    elif completion_rate > 75:\n",
    "        rating = \"AVERAGE\"\n",
    "    else:\n",
    "        rating = \"POOR - CRITICAL ISSUE\"\n",
    "    \n",
    "    print(f\"  Processing efficiency: {rating}\")\n"
   ]
  },
  {
   "cell_type": "markdown",
   "id": "4a920b50",
   "metadata": {},
   "source": [
    "#### Operational Discoveries:\n",
    "**Subsidiary G & J: World-Class Operations**\n",
    "\n",
    "- G: 11.1x inventory turnover, 33 days inventory, 99.3% order completion\n",
    "- J: 13.1x inventory turnover, 28 days inventory, 98.2% order completion\n",
    "Both: EXCELLENT operational efficiency across all metrics\n",
    "\n",
    "**Subsidiary A: Operational Crisis Confirmed**\n",
    "\n",
    "- Inventory: Only 6.1x turnover (60 days vs 28-33 for others)\n",
    "- Orders: Only 79.3% completion rate (vs 98-99% for others)\n",
    "- Scale: 71 orders/day vs 369-385 for others\n",
    "\n",
    "#### Key Business Insights:\n",
    "1. Cash Flow Impact:\n",
    "- A ties up cash for 60 days vs 28-33 days (inefficient)\n",
    "- G & J convert inventory to cash twice as fast\n",
    "\n",
    "2. Operational Excellence:\n",
    "- G & J are benchmark performers (99%+ completion)\n",
    "- A has systemic process failures (20% order failure rate)\n",
    "\n",
    "3. Scale Efficiency:\n",
    "- G & J process 5x more daily orders than A\n",
    "- Higher volume = better operational leverage"
   ]
  },
  {
   "cell_type": "markdown",
   "id": "5efa6434",
   "metadata": {},
   "source": [
    "### 6. EXECUTIVE SUMMARY AND STRATEGIC RECOMMENDATIONS"
   ]
  },
  {
   "cell_type": "code",
   "execution_count": 51,
   "id": "c70239d1",
   "metadata": {},
   "outputs": [
    {
     "name": "stdout",
     "output_type": "stream",
     "text": [
      "FINAL BUSINESS PERFORMANCE RANKING:\n",
      "1. Subsidiary J: €1,550,822,997 revenue, €387,381,461 profit (25.0% margin)\n",
      "   Status: BEST PERFORMER\n",
      "2. Subsidiary G: €1,311,301,519 revenue, €313,781,222 profit (23.9% margin)\n",
      "   Status: SOLID PERFORMER\n",
      "3. Subsidiary A: €227,891,447 revenue, €-65,506,498 LOSS (-28.7% margin)\n",
      "   Status: CRISIS - IMMEDIATE ACTION NEEDED\n"
     ]
    }
   ],
   "source": [
    "print(\"FINAL BUSINESS PERFORMANCE RANKING:\")\n",
    "\n",
    "# Create performance summary\n",
    "subsidiaries_performance = [\n",
    "    ('J', j_revenue_clean, j_final_profit, j_margin, 'BEST PERFORMER'),\n",
    "    ('G', g_revenue_clean, g_final_profit, g_margin, 'SOLID PERFORMER'),\n",
    "    ('A', a_revenue_clean, a_final_profit, a_margin, 'CRISIS - IMMEDIATE ACTION NEEDED')\n",
    "]\n",
    "\n",
    "for i, (name, revenue, profit, margin, status) in enumerate(subsidiaries_performance, 1):\n",
    "    print(f\"{i}. Subsidiary {name}: €{revenue:,.0f} revenue, €{profit:,.0f} {'profit' if profit > 0 else 'LOSS'} ({margin:.1f}% margin)\")\n",
    "    print(f\"   Status: {status}\")"
   ]
  },
  {
   "cell_type": "code",
   "execution_count": 53,
   "id": "946d7884",
   "metadata": {},
   "outputs": [
    {
     "name": "stdout",
     "output_type": "stream",
     "text": [
      "\n",
      "OPERATIONAL EFFICIENCY COMPARISON:\n",
      "• Subsidiary A: 19.0% sales cancellation, 6.1x inventory turnover - CRITICAL PROBLEMS\n",
      "• Subsidiary G: 0.7% sales cancellation, 11.1x inventory turnover - EXCELLENT\n",
      "• Subsidiary J: 1.8% sales cancellation, 13.1x inventory turnover - EXCELLENT\n"
     ]
    }
   ],
   "source": [
    "print(f\"\\nOPERATIONAL EFFICIENCY COMPARISON:\")\n",
    "print(f\"• Subsidiary A: {a_cancel_rate:.1f}% sales cancellation, 6.1x inventory turnover - CRITICAL PROBLEMS\")\n",
    "print(f\"• Subsidiary G: {g_cancel_rate:.1f}% sales cancellation, 11.1x inventory turnover - EXCELLENT\")\n",
    "print(f\"• Subsidiary J: {j_cancel_rate:.1f}% sales cancellation, 13.1x inventory turnover - EXCELLENT\")"
   ]
  },
  {
   "cell_type": "markdown",
   "id": "f95b54aa",
   "metadata": {},
   "source": [
    "**BUSINESS MODEL INSIGHTS**\n",
    "- All subsidiaries focus on large commercial solar projects (80%+ revenue)\n",
    "- Subsidiary G: Module specialist (62% revenue) - excellent operational efficiency \n",
    "- Subsidiary J: Diversified portfolio (39% modules, 36% inverters) - balanced & efficient"
   ]
  },
  {
   "cell_type": "markdown",
   "id": "85760e50",
   "metadata": {},
   "source": [
    "**STRATEGIC RECOMMENDATIONS**\n",
    "URGENT ACTIONS (Subsidiary A):\n",
    "- Fix operational crisis: 20% order failure rate unacceptable\n",
    "- Improve inventory management: 2x slower than benchmarks\n",
    "- Consider management changes or process overhaul\n",
    "- Focus on order fulfillment before growth initiatives\n",
    "\n",
    "**GROWTH OPPORTUNITIES:**\n",
    "- Expand Subsidiary J operations (best overall performance)\n",
    "- Leverage G's module expertise and operational excellence\n",
    "- Focus investment on large commercial solar projects\n",
    "- Apply G & J operational practices company-wide\n",
    "\n",
    "**OPERATIONAL IMPROVEMENTS:**\n",
    "- Benchmark A against G & J processes\n",
    "- Standardize inventory management across subsidiaries\n",
    "- Implement order fulfillment tracking and alerts\n",
    "- Improve supplier relationship management"
   ]
  },
  {
   "cell_type": "code",
   "execution_count": 56,
   "id": "e4c1d30c",
   "metadata": {},
   "outputs": [
    {
     "name": "stdout",
     "output_type": "stream",
     "text": [
      "\n",
      "FINANCIAL IMPACT ANALYSIS:\n",
      "• Current total company profit: €635,656,186\n",
      "• A's losses offset 9% of G&J's profits\n",
      "• Potential company profit if A fixed: €733,915,933+\n",
      "• Working capital savings from A efficiency: €15-20M+ annually\n"
     ]
    }
   ],
   "source": [
    "print(f\"\\nFINANCIAL IMPACT ANALYSIS:\")\n",
    "total_profit = j_final_profit + g_final_profit + a_final_profit\n",
    "potential_improvement = abs(a_final_profit) * 1.5  # Conservative estimate if A fixed\n",
    "\n",
    "print(f\"• Current total company profit: €{total_profit:,.0f}\")\n",
    "print(f\"• A's losses offset {abs(a_final_profit)/(g_final_profit + j_final_profit)*100:.0f}% of G&J's profits\")\n",
    "print(f\"• Potential company profit if A fixed: €{total_profit + potential_improvement:,.0f}+\")\n",
    "print(f\"• Working capital savings from A efficiency: €15-20M+ annually\")"
   ]
  },
  {
   "cell_type": "markdown",
   "id": "261d24c7",
   "metadata": {},
   "source": [
    "#### IMMEDIATE ACTIONS (NEXT 30 DAYS)\n",
    "- Conduct deep-dive operational audit at Subsidiary A\n",
    "- Document G & J best practices for replication\n",
    "- Implement weekly operational metrics reporting\n",
    "- Establish improvement targets and timeline for A"
   ]
  },
  {
   "cell_type": "code",
   "execution_count": null,
   "id": "34d8404c",
   "metadata": {},
   "outputs": [],
   "source": [
    "**Perfect!** Now let’s move to **Tableau Dashboard Creation**. First, we need to prepare clean data exports for Tableau.\n",
    "\n",
    "## **Step 1: Export Data for Tableau**\n",
    "\n",
    "```python\n",
    "# =============================================================================\n",
    "# SECTION 8: PREPARE DATA FOR TABLEAU DASHBOARD\n",
    "# =============================================================================\n",
    "\n",
    "print(\"📊 PREPARING DATA EXPORTS FOR TABLEAU\")\n",
    "print(\"=\" * 50)\n",
    "\n",
    "# 1. Executive Summary Table\n",
    "executive_summary = pd.DataFrame({\n",
    "    'Subsidiary': ['A', 'G', 'J'],\n",
    "    'Revenue': [a_revenue_clean, g_revenue_clean, j_revenue_clean],\n",
    "    'Profit': [a_final_profit, g_final_profit, j_final_profit],\n",
    "    'Profit_Margin': [a_margin, g_margin, j_margin],\n",
    "    'Sales_Orders': [len(a_sales_clean), len(g_sales_clean), len(j_sales_clean)],\n",
    "    'Cancellation_Rate': [a_cancel_rate, g_cancel_rate, j_cancel_rate],\n",
    "    'Inventory_Turnover': [6.1, 11.1, 13.1],\n",
    "    'Days_Inventory': [60, 33, 28],\n",
    "    'Status': ['Crisis', 'Good', 'Best']\n",
    "})\n",
    "\n",
    "# 2. Business Segment Data\n",
    "business_segments = pd.DataFrame({\n",
    "    'Subsidiary': ['A', 'A', 'G', 'G', 'J', 'J'],\n",
    "    'Segment': ['Retail', 'Large Projects', 'Retail', 'Large Projects', 'Retail', 'Large Projects'],\n",
    "    'Revenue': [42894896, 184996551, 136903972, 1174397547, 290372253, 1260450744],\n",
    "    'Order_Count': [23194, 2865, 117013, 17650, 124087, 16550],\n",
    "    'Avg_Order_Size': [1849, 64571, 1170, 66538, 2340, 76160]\n",
    "})\n",
    "\n",
    "# 3. Product Category Data\n",
    "product_categories = pd.DataFrame({\n",
    "    'Subsidiary': ['A', 'A', 'A', 'A', 'A', 'A', 'A',\n",
    "                   'G', 'G', 'G', 'G', 'G', 'G', 'G', 'G',\n",
    "                   'J', 'J', 'J', 'J', 'J', 'J', 'J'],\n",
    "    'Category': ['Storage', 'Inverters', 'Racking', 'Modules', 'Other', 'Inverter Accessories', 'Charging Stations',\n",
    "                 'Modules', 'Inverters', 'Racking', 'Storage', 'Inverter Accessories', 'Other', 'Shelter', 'Charging Stations',\n",
    "                 'Modules', 'Inverters', 'Storage', 'Inverter Accessories', 'Racking', 'Other', 'Charging Stations'],\n",
    "    'Revenue': [127859749, 57024335, 16218302, 15419313, 7079986, 3542982, 746781,\n",
    "                813090227, 232395498, 102148471, 68009708, 45962616, 41880875, 5286199, 2527926,\n",
    "                597882364, 557685767, 237023724, 85944713, 49763777, 14686747, 7835905],\n",
    "    'Revenue_Percentage': [56.1, 25.0, 7.1, 6.8, 3.1, 1.6, 0.3,\n",
    "                          62.0, 17.7, 7.8, 5.2, 3.5, 3.2, 0.4, 0.2,\n",
    "                          38.6, 36.0, 15.3, 5.5, 3.2, 0.9, 0.5]\n",
    "})\n",
    "\n",
    "# Export all datasets\n",
    "executive_summary.to_csv('executive_summary.csv', index=False)\n",
    "business_segments.to_csv('business_segments.csv', index=False)\n",
    "product_categories.to_csv('product_categories.csv', index=False)\n",
    "\n",
    "print(\"✅ Data exported successfully!\")\n",
    "print(\"Files created:\")\n",
    "print(\"  • executive_summary.csv - Main KPIs for C-Level dashboard\")\n",
    "print(\"  • business_segments.csv - Retail vs Projects analysis\")\n",
    "print(\"  • product_categories.csv - Product performance data\")\n",
    "\n",
    "print(f\"\\n📋 TABLEAU DASHBOARD SPECIFICATIONS:\")\n",
    "print(\"=\" * 50)\n",
    "print(\"DASHBOARD 1: C-LEVEL EXECUTIVE SUMMARY\")\n",
    "print(\"• KPI Cards: Revenue, Profit, Margin for each subsidiary\")\n",
    "print(\"• Performance Ranking: Visual ranking with status indicators\") \n",
    "print(\"• Trend Charts: Revenue and profit trends (if time data available)\")\n",
    "print(\"• Key Metrics: Cancellation rates, inventory turnover\")\n",
    "\n",
    "print(\"\\nDASHBOARD 2: OPERATIONS MANAGEMENT\")\n",
    "print(\"• Operational Efficiency: Cancellation rates, completion rates\")\n",
    "print(\"• Inventory Metrics: Turnover ratios, days of inventory\")\n",
    "print(\"• Product Performance: Revenue by category, order volumes\")\n",
    "print(\"• Process Monitoring: Order fulfillment tracking\")\n",
    "\n",
    "print(\"\\nDASHBOARD 3: BUSINESS SEGMENT ANALYSIS\") \n",
    "print(\"• Segment Breakdown: Retail vs Large Projects revenue split\")\n",
    "print(\"• Project Analytics: Average project size, project count\")\n",
    "print(\"• Product Categories: Revenue contribution by product type\")\n",
    "print(\"• Comparative Analysis: Cross-subsidiary comparisons\")\n",
    "\n",
    "print(f\"\\n🎯 NEXT STEPS:\")\n",
    "print(\"1. Open Tableau Public/Desktop\")\n",
    "print(\"2. Import the 3 CSV files created above\")\n",
    "print(\"3. Create the 3 dashboards as specified\")\n",
    "print(\"4. Publish to Tableau Public and get shareable link\")\n",
    "print(\"5. Write final summary report\")\n",
    "```\n",
    "\n",
    "**Run this to create the data files for Tableau!**\n",
    "\n",
    "**After this runs successfully, we’ll move to Tableau and I’ll guide you through creating the dashboards step by step.****Perfect!** Now let’s move to **Tableau Dashboard Creation**. First, we need to prepare clean data exports for Tableau.\n",
    "\n",
    "## **Step 1: Export Data for Tableau**\n",
    "\n",
    "```python\n",
    "# =============================================================================\n",
    "# SECTION 8: PREPARE DATA FOR TABLEAU DASHBOARD\n",
    "# =============================================================================\n",
    "\n",
    "print(\"📊 PREPARING DATA EXPORTS FOR TABLEAU\")\n",
    "print(\"=\" * 50)\n",
    "\n",
    "# 1. Executive Summary Table\n",
    "executive_summary = pd.DataFrame({\n",
    "    'Subsidiary': ['A', 'G', 'J'],\n",
    "    'Revenue': [a_revenue_clean, g_revenue_clean, j_revenue_clean],\n",
    "    'Profit': [a_final_profit, g_final_profit, j_final_profit],\n",
    "    'Profit_Margin': [a_margin, g_margin, j_margin],\n",
    "    'Sales_Orders': [len(a_sales_clean), len(g_sales_clean), len(j_sales_clean)],\n",
    "    'Cancellation_Rate': [a_cancel_rate, g_cancel_rate, j_cancel_rate],\n",
    "    'Inventory_Turnover': [6.1, 11.1, 13.1],\n",
    "    'Days_Inventory': [60, 33, 28],\n",
    "    'Status': ['Crisis', 'Good', 'Best']\n",
    "})\n",
    "\n",
    "# 2. Business Segment Data\n",
    "business_segments = pd.DataFrame({\n",
    "    'Subsidiary': ['A', 'A', 'G', 'G', 'J', 'J'],\n",
    "    'Segment': ['Retail', 'Large Projects', 'Retail', 'Large Projects', 'Retail', 'Large Projects'],\n",
    "    'Revenue': [42894896, 184996551, 136903972, 1174397547, 290372253, 1260450744],\n",
    "    'Order_Count': [23194, 2865, 117013, 17650, 124087, 16550],\n",
    "    'Avg_Order_Size': [1849, 64571, 1170, 66538, 2340, 76160]\n",
    "})\n",
    "\n",
    "# 3. Product Category Data\n",
    "product_categories = pd.DataFrame({\n",
    "    'Subsidiary': ['A', 'A', 'A', 'A', 'A', 'A', 'A',\n",
    "                   'G', 'G', 'G', 'G', 'G', 'G', 'G', 'G',\n",
    "                   'J', 'J', 'J', 'J', 'J', 'J', 'J'],\n",
    "    'Category': ['Storage', 'Inverters', 'Racking', 'Modules', 'Other', 'Inverter Accessories', 'Charging Stations',\n",
    "                 'Modules', 'Inverters', 'Racking', 'Storage', 'Inverter Accessories', 'Other', 'Shelter', 'Charging Stations',\n",
    "                 'Modules', 'Inverters', 'Storage', 'Inverter Accessories', 'Racking', 'Other', 'Charging Stations'],\n",
    "    'Revenue': [127859749, 57024335, 16218302, 15419313, 7079986, 3542982, 746781,\n",
    "                813090227, 232395498, 102148471, 68009708, 45962616, 41880875, 5286199, 2527926,\n",
    "                597882364, 557685767, 237023724, 85944713, 49763777, 14686747, 7835905],\n",
    "    'Revenue_Percentage': [56.1, 25.0, 7.1, 6.8, 3.1, 1.6, 0.3,\n",
    "                          62.0, 17.7, 7.8, 5.2, 3.5, 3.2, 0.4, 0.2,\n",
    "                          38.6, 36.0, 15.3, 5.5, 3.2, 0.9, 0.5]\n",
    "})\n",
    "\n",
    "# Export all datasets\n",
    "executive_summary.to_csv('executive_summary.csv', index=False)\n",
    "business_segments.to_csv('business_segments.csv', index=False)\n",
    "product_categories.to_csv('product_categories.csv', index=False)\n",
    "\n",
    "print(\"✅ Data exported successfully!\")\n",
    "print(\"Files created:\")\n",
    "print(\"  • executive_summary.csv - Main KPIs for C-Level dashboard\")\n",
    "print(\"  • business_segments.csv - Retail vs Projects analysis\")\n",
    "print(\"  • product_categories.csv - Product performance data\")\n",
    "\n",
    "print(f\"\\n📋 TABLEAU DASHBOARD SPECIFICATIONS:\")\n",
    "print(\"=\" * 50)\n",
    "print(\"DASHBOARD 1: C-LEVEL EXECUTIVE SUMMARY\")\n",
    "print(\"• KPI Cards: Revenue, Profit, Margin for each subsidiary\")\n",
    "print(\"• Performance Ranking: Visual ranking with status indicators\") \n",
    "print(\"• Trend Charts: Revenue and profit trends (if time data available)\")\n",
    "print(\"• Key Metrics: Cancellation rates, inventory turnover\")\n",
    "\n",
    "print(\"\\nDASHBOARD 2: OPERATIONS MANAGEMENT\")\n",
    "print(\"• Operational Efficiency: Cancellation rates, completion rates\")\n",
    "print(\"• Inventory Metrics: Turnover ratios, days of inventory\")\n",
    "print(\"• Product Performance: Revenue by category, order volumes\")\n",
    "print(\"• Process Monitoring: Order fulfillment tracking\")\n",
    "\n",
    "print(\"\\nDASHBOARD 3: BUSINESS SEGMENT ANALYSIS\") \n",
    "print(\"• Segment Breakdown: Retail vs Large Projects revenue split\")\n",
    "print(\"• Project Analytics: Average project size, project count\")\n",
    "print(\"• Product Categories: Revenue contribution by product type\")\n",
    "print(\"• Comparative Analysis: Cross-subsidiary comparisons\")\n",
    "\n",
    "print(f\"\\n🎯 NEXT STEPS:\")\n",
    "print(\"1. Open Tableau Public/Desktop\")\n",
    "print(\"2. Import the 3 CSV files created above\")\n",
    "print(\"3. Create the 3 dashboards as specified\")\n",
    "print(\"4. Publish to Tableau Public and get shareable link\")\n",
    "print(\"5. Write final summary report\")\n",
    "```\n",
    "\n",
    "**Run this to create the data files for Tableau!**\n",
    "\n",
    "**After this runs successfully, we’ll move to Tableau and I’ll guide you through creating the dashboards step by step.**"
   ]
  }
 ],
 "metadata": {
  "kernelspec": {
   "display_name": "Python 3 (ipykernel)",
   "language": "python",
   "name": "python3"
  },
  "language_info": {
   "codemirror_mode": {
    "name": "ipython",
    "version": 3
   },
   "file_extension": ".py",
   "mimetype": "text/x-python",
   "name": "python",
   "nbconvert_exporter": "python",
   "pygments_lexer": "ipython3",
   "version": "3.11.5"
  }
 },
 "nbformat": 4,
 "nbformat_minor": 5
}
